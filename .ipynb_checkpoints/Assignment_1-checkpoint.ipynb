{
 "cells": [
  {
   "cell_type": "markdown",
   "id": "62566e6d",
   "metadata": {},
   "source": [
    "###### Q1) A company decided to give bonus of 5% to employee if his/her year of service is more than 5 years. Ask user for their salary and year of service and print the net bonus amount."
   ]
  },
  {
   "cell_type": "code",
   "execution_count": 1,
   "id": "2742469f",
   "metadata": {},
   "outputs": [
    {
     "name": "stdout",
     "output_type": "stream",
     "text": [
      "Enter your salary: 50000\n",
      "Enter your year of service: 6\n",
      "Net Bonus is: 2500.0\n"
     ]
    }
   ],
   "source": [
    "Bonus_Percentage = 0.05 #5%\n",
    "\n",
    "salary = int(input(\"Enter your salary: \"))\n",
    "\n",
    "Net_Bonus_Amount = salary * Bonus_Percentage\n",
    "\n",
    "year_of_service = int(input(\"Enter your year of service: \"))\n",
    "\n",
    "if year_of_service > 5:\n",
    "    print(\"Net Bonus is: \" + str(Net_Bonus_Amount))\n",
    "else:\n",
    "    print(salary)"
   ]
  },
  {
   "cell_type": "markdown",
   "id": "70d059d6",
   "metadata": {},
   "source": [
    "###### Q2) Write a program to check whether a person is eligible for voting or not. (accept age from user) if age is greater than 17 eligible otherwise not eligible."
   ]
  },
  {
   "cell_type": "code",
   "execution_count": 2,
   "id": "6f9ff163",
   "metadata": {},
   "outputs": [
    {
     "name": "stdout",
     "output_type": "stream",
     "text": [
      "Enter your age: 18\n",
      "You are eligible for voting\n"
     ]
    }
   ],
   "source": [
    "age = int(input(\"Enter your age: \"))\n",
    "\n",
    "if age > 17:\n",
    "    print(\"You are eligible for voting\")\n",
    "else:\n",
    "    print(\"Sorry you are not eligible for voting\")"
   ]
  },
  {
   "cell_type": "markdown",
   "id": "05e9ef04",
   "metadata": {},
   "source": [
    "###### Q3) Write a program to check whether a number entered by user is even or odd."
   ]
  },
  {
   "cell_type": "code",
   "execution_count": 3,
   "id": "45a6322a",
   "metadata": {},
   "outputs": [
    {
     "name": "stdout",
     "output_type": "stream",
     "text": [
      "Enter  a Number: 7\n",
      "number is odd\n"
     ]
    }
   ],
   "source": [
    "number = int(input(\"Enter  a Number: \"))\n",
    "\n",
    "if number%2 == 0:\n",
    "    print(\"Nmber is even\")\n",
    "else:\n",
    "    print(\"number is odd\")"
   ]
  },
  {
   "cell_type": "markdown",
   "id": "79e05067",
   "metadata": {},
   "source": [
    "###### Q4) Write a program to check whether a number is divisible by 7 or not. Show Answer"
   ]
  },
  {
   "cell_type": "code",
   "execution_count": 4,
   "id": "e689305e",
   "metadata": {},
   "outputs": [
    {
     "name": "stdout",
     "output_type": "stream",
     "text": [
      "Enter a number: 28\n",
      "number is divisible by 7\n"
     ]
    }
   ],
   "source": [
    "number = int(input(\"Enter a number: \"))\n",
    "\n",
    "if number % 7 == 0:\n",
    "    print(\"number is divisible by 7\")\n",
    "else:\n",
    "    print(\"number is not divisible by 7\")"
   ]
  },
  {
   "cell_type": "markdown",
   "id": "47b27ddb",
   "metadata": {},
   "source": [
    "###### 5) Write a program to display \"Hello\" if a number entered by user is a multiple of five , otherwise print \"Bye\"."
   ]
  },
  {
   "cell_type": "code",
   "execution_count": 5,
   "id": "a3ef184b",
   "metadata": {},
   "outputs": [
    {
     "name": "stdout",
     "output_type": "stream",
     "text": [
      "Enter any number: 25\n",
      "Hello\n"
     ]
    }
   ],
   "source": [
    "number = int(input(\"Enter any number: \"))\n",
    "\n",
    "if number % 5 == 0:\n",
    "    print(\"Hello\")\n",
    "else:\n",
    "    print(\"Bye\")"
   ]
  },
  {
   "cell_type": "markdown",
   "id": "55a327cf",
   "metadata": {},
   "source": [
    "###### Q6) Write a program to display the last digit of a number."
   ]
  },
  {
   "cell_type": "code",
   "execution_count": 6,
   "id": "c52e60be",
   "metadata": {},
   "outputs": [
    {
     "name": "stdout",
     "output_type": "stream",
     "text": [
      "Enter a number: 123456789\n",
      "The last digit of the number is:9\n"
     ]
    }
   ],
   "source": [
    "number = int(input(\"Enter a number: \"))\n",
    "\n",
    "last_digit = number % 10\n",
    "\n",
    "print(\"The last digit of the number is:\"+ str(last_digit))"
   ]
  },
  {
   "cell_type": "markdown",
   "id": "d4811150",
   "metadata": {},
   "source": [
    "###### Q7) Write a program to check whether the last digit of a number( entered by user ) is divisible by 3 or not."
   ]
  },
  {
   "cell_type": "code",
   "execution_count": 9,
   "id": "6dc1d2de",
   "metadata": {},
   "outputs": [
    {
     "name": "stdout",
     "output_type": "stream",
     "text": [
      "Enter any number: 123456789\n",
      "last digit: 9\n",
      "The number is divisible by 3\n"
     ]
    }
   ],
   "source": [
    "number = int(input(\"Enter any number: \"))\n",
    "\n",
    "last_digit = number % 10\n",
    "\n",
    "print(\"last digit: \" +str(last_digit))\n",
    "\n",
    "if last_digit % 3 == 0:\n",
    "    print(\"The number is divisible by 3\")\n",
    "else:\n",
    "    print(\"The number is not divisible by 3\")"
   ]
  },
  {
   "cell_type": "markdown",
   "id": "f2233a34",
   "metadata": {},
   "source": [
    "###### Q8) Take values of length and breadth of a rectangle from user and print if it is square or rectangle"
   ]
  },
  {
   "cell_type": "code",
   "execution_count": 10,
   "id": "ef170e9f",
   "metadata": {},
   "outputs": [
    {
     "name": "stdout",
     "output_type": "stream",
     "text": [
      "Enter length: 24\n",
      "Enter Breadth: 18\n",
      "This is a Rectangle\n"
     ]
    }
   ],
   "source": [
    "length = int(input(\"Enter length: \"))\n",
    "\n",
    "breadth = int(input(\"Enter Breadth: \"))\n",
    "\n",
    "if length == breadth:\n",
    "    print(\"This is Square.\")\n",
    "else:\n",
    "    print(\"This is a Rectangle\")"
   ]
  },
  {
   "cell_type": "markdown",
   "id": "3bda084b",
   "metadata": {},
   "source": [
    "###### Q9) Take two int values from user and print greatest among them.\n"
   ]
  },
  {
   "cell_type": "code",
   "execution_count": 11,
   "id": "4aeadd28",
   "metadata": {},
   "outputs": [
    {
     "name": "stdout",
     "output_type": "stream",
     "text": [
      "Enter First Number: 90\n",
      "Enter Second Number: 80\n",
      "First Number is greater\n"
     ]
    }
   ],
   "source": [
    "Number1 = int(input(\"Enter First Number: \"))\n",
    "\n",
    "Number2 = int(input(\"Enter Second Number: \"))\n",
    "\n",
    "if Number1 > Number2:\n",
    "    print(\"First Number is greater\")\n",
    "else:\n",
    "    print(\"Second Number is greater\")"
   ]
  },
  {
   "cell_type": "markdown",
   "id": "c54ca7bf",
   "metadata": {},
   "source": [
    "###### Q10) ) A shop will give discount of 10% if the cost of purchased quantity is more than 1000. Ask user for quantity Suppose, one unit will cost 100. Judge and print total cost for user."
   ]
  },
  {
   "cell_type": "code",
   "execution_count": 12,
   "id": "8357f6af",
   "metadata": {},
   "outputs": [
    {
     "name": "stdout",
     "output_type": "stream",
     "text": [
      "Enter the Quantity: 12\n",
      "Total cost after discount is: 1080.0\n"
     ]
    }
   ],
   "source": [
    "cost_per_unit = 100\n",
    "quantity = int(input(\"Enter the Quantity: \"))\n",
    "total_cost = cost_per_unit * quantity\n",
    "if total_cost > 1000:\n",
    "    discount = 0.1 * total_cost\n",
    "    total_cost -= discount\n",
    "    print(\"Total cost after discount is: \" + str(total_cost))\n",
    "else:\n",
    "    print(\"Total cost is: \" + str(total_cost))\n",
    "    "
   ]
  },
  {
   "cell_type": "markdown",
   "id": "1e2e7a8f",
   "metadata": {},
   "source": [
    "###### Q11)A school has following rules for grading system: a. Below 25 - F b. 25 to 45 - E c. 45 to 50 - D d. 50 to 60 - C e. 60 to 80 - B f. Above 80 - A Ask user to enter marks and print the corresponding grade."
   ]
  },
  {
   "cell_type": "code",
   "execution_count": 13,
   "id": "f1e665a3",
   "metadata": {},
   "outputs": [
    {
     "name": "stdout",
     "output_type": "stream",
     "text": [
      "Enter your Marks: 88\n",
      "your grade is 'A' \n"
     ]
    }
   ],
   "source": [
    "marks = int(input(\"Enter your Marks: \"))\n",
    "\n",
    "if marks < 25 :\n",
    "    print(\"your grade is 'F' \")\n",
    "elif  25<= marks <45:\n",
    "    print(\"your grade is 'E' \")\n",
    "elif 45<= marks <50:\n",
    "    print(\"your grade is 'D' \")\n",
    "elif 50 <= marks < 60:\n",
    "    print(\"your grade is 'C' \")\n",
    "elif 60 <= marks < 80:\n",
    "    print(\"your grade is 'B' \")\n",
    "else:\n",
    "    print(\"your grade is 'A' \")"
   ]
  },
  {
   "cell_type": "markdown",
   "id": "908da0dd",
   "metadata": {},
   "source": [
    "###### Q12) A student will not be allowed to sit in exam if his/her attendence is less than 75%.\n"
   ]
  },
  {
   "cell_type": "code",
   "execution_count": 1,
   "id": "a6e88c5c",
   "metadata": {},
   "outputs": [
    {
     "name": "stdout",
     "output_type": "stream",
     "text": [
      "Enter total number of classes held: 20\n",
      "Enter number of classes attended: 16\n",
      "Attendance is 80.0%\n",
      "You are allowed to sit in the exam.\n"
     ]
    }
   ],
   "source": [
    "total_classes = int(input(\"Enter total number of classes held: \"))\n",
    "attended_classes = int(input(\"Enter number of classes attended: \"))\n",
    "\n",
    "attendance_percentage = (attended_classes / total_classes) * 100\n",
    "\n",
    "if attendance_percentage >= 75:\n",
    "    print(f\"Attendance is {attendance_percentage}%\")\n",
    "    print(\"You are allowed to sit in the exam.\")\n",
    "else:\n",
    "    print(f\"Attendance is {attendance_percentage}%\")\n",
    "    print(\"You are not allowed to sit in the exam due to low attendance.\")"
   ]
  },
  {
   "cell_type": "code",
   "execution_count": null,
   "id": "78ace230",
   "metadata": {},
   "outputs": [],
   "source": []
  }
 ],
 "metadata": {
  "kernelspec": {
   "display_name": "Python 3 (ipykernel)",
   "language": "python",
   "name": "python3"
  },
  "language_info": {
   "codemirror_mode": {
    "name": "ipython",
    "version": 3
   },
   "file_extension": ".py",
   "mimetype": "text/x-python",
   "name": "python",
   "nbconvert_exporter": "python",
   "pygments_lexer": "ipython3",
   "version": "3.11.5"
  }
 },
 "nbformat": 4,
 "nbformat_minor": 5
}
