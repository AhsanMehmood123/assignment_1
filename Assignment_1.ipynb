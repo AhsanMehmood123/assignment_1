{
 "cells": [
  {
   "cell_type": "markdown",
   "id": "62566e6d",
   "metadata": {},
   "source": [
    "###### Q1) A company decided to give bonus of 5% to employee if his/her year of service is more than 5 years. Ask user for their salary and year of service and print the net bonus amount."
   ]
  },
  {
   "cell_type": "code",
   "execution_count": 1,
   "id": "2742469f",
   "metadata": {},
   "outputs": [
    {
     "name": "stdout",
     "output_type": "stream",
     "text": [
      "Enter your salary: 50000\n",
      "Enter your year of service: 6\n",
      "Net Bonus is: 2500.0\n"
     ]
    }
   ],
   "source": [
    "Bonus_Percentage = 0.05 #5%\n",
    "\n",
    "salary = int(input(\"Enter your salary: \"))\n",
    "\n",
    "Net_Bonus_Amount = salary * Bonus_Percentage\n",
    "\n",
    "year_of_service = int(input(\"Enter your year of service: \"))\n",
    "\n",
    "if year_of_service > 5:\n",
    "    print(\"Net Bonus is: \" + str(Net_Bonus_Amount))\n",
    "else:\n",
    "    print(salary)"
   ]
  },
  {
   "cell_type": "markdown",
   "id": "70d059d6",
   "metadata": {},
   "source": [
    "###### Q2) Write a program to check whether a person is eligible for voting or not. (accept age from user) if age is greater than 17 eligible otherwise not eligible."
   ]
  },
  {
   "cell_type": "code",
   "execution_count": 2,
   "id": "6f9ff163",
   "metadata": {},
   "outputs": [
    {
     "name": "stdout",
     "output_type": "stream",
     "text": [
      "Enter your age: 18\n",
      "You are eligible for voting\n"
     ]
    }
   ],
   "source": [
    "age = int(input(\"Enter your age: \"))\n",
    "\n",
    "if age > 17:\n",
    "    print(\"You are eligible for voting\")\n",
    "else:\n",
    "    print(\"Sorry you are not eligible for voting\")"
   ]
  },
  {
   "cell_type": "markdown",
   "id": "05e9ef04",
   "metadata": {},
   "source": [
    "###### Q3) Write a program to check whether a number entered by user is even or odd."
   ]
  },
  {
   "cell_type": "code",
   "execution_count": 3,
   "id": "45a6322a",
   "metadata": {},
   "outputs": [
    {
     "name": "stdout",
     "output_type": "stream",
     "text": [
      "Enter  a Number: 7\n",
      "number is odd\n"
     ]
    }
   ],
   "source": [
    "number = int(input(\"Enter  a Number: \"))\n",
    "\n",
    "if number%2 == 0:\n",
    "    print(\"Nmber is even\")\n",
    "else:\n",
    "    print(\"number is odd\")"
   ]
  },
  {
   "cell_type": "markdown",
   "id": "79e05067",
   "metadata": {},
   "source": [
    "###### Q4) Write a program to check whether a number is divisible by 7 or not. Show Answer"
   ]
  },
  {
   "cell_type": "code",
   "execution_count": 4,
   "id": "e689305e",
   "metadata": {},
   "outputs": [
    {
     "name": "stdout",
     "output_type": "stream",
     "text": [
      "Enter a number: 28\n",
      "number is divisible by 7\n"
     ]
    }
   ],
   "source": [
    "number = int(input(\"Enter a number: \"))\n",
    "\n",
    "if number % 7 == 0:\n",
    "    print(\"number is divisible by 7\")\n",
    "else:\n",
    "    print(\"number is not divisible by 7\")"
   ]
  },
  {
   "cell_type": "markdown",
   "id": "47b27ddb",
   "metadata": {},
   "source": [
    "###### Q5) Write a program to display \"Hello\" if a number entered by user is a multiple of five , otherwise print \"Bye\"."
   ]
  },
  {
   "cell_type": "code",
   "execution_count": 5,
   "id": "a3ef184b",
   "metadata": {},
   "outputs": [
    {
     "name": "stdout",
     "output_type": "stream",
     "text": [
      "Enter any number: 25\n",
      "Hello\n"
     ]
    }
   ],
   "source": [
    "number = int(input(\"Enter any number: \"))\n",
    "\n",
    "if number % 5 == 0:\n",
    "    print(\"Hello\")\n",
    "else:\n",
    "    print(\"Bye\")"
   ]
  },
  {
   "cell_type": "markdown",
   "id": "55a327cf",
   "metadata": {},
   "source": [
    "###### Q6) Write a program to display the last digit of a number."
   ]
  },
  {
   "cell_type": "code",
   "execution_count": 6,
   "id": "c52e60be",
   "metadata": {},
   "outputs": [
    {
     "name": "stdout",
     "output_type": "stream",
     "text": [
      "Enter a number: 123456789\n",
      "The last digit of the number is:9\n"
     ]
    }
   ],
   "source": [
    "number = int(input(\"Enter a number: \"))\n",
    "\n",
    "last_digit = number % 10\n",
    "\n",
    "print(\"The last digit of the number is:\"+ str(last_digit))"
   ]
  },
  {
   "cell_type": "markdown",
   "id": "d4811150",
   "metadata": {},
   "source": [
    "###### Q7) Write a program to check whether the last digit of a number( entered by user ) is divisible by 3 or not."
   ]
  },
  {
   "cell_type": "code",
   "execution_count": 9,
   "id": "6dc1d2de",
   "metadata": {},
   "outputs": [
    {
     "name": "stdout",
     "output_type": "stream",
     "text": [
      "Enter any number: 123456789\n",
      "last digit: 9\n",
      "The number is divisible by 3\n"
     ]
    }
   ],
   "source": [
    "number = int(input(\"Enter any number: \"))\n",
    "\n",
    "last_digit = number % 10\n",
    "\n",
    "print(\"last digit: \" +str(last_digit))\n",
    "\n",
    "if last_digit % 3 == 0:\n",
    "    print(\"The number is divisible by 3\")\n",
    "else:\n",
    "    print(\"The number is not divisible by 3\")"
   ]
  },
  {
   "cell_type": "markdown",
   "id": "f2233a34",
   "metadata": {},
   "source": [
    "###### Q8) Take values of length and breadth of a rectangle from user and print if it is square or rectangle"
   ]
  },
  {
   "cell_type": "code",
   "execution_count": 10,
   "id": "ef170e9f",
   "metadata": {},
   "outputs": [
    {
     "name": "stdout",
     "output_type": "stream",
     "text": [
      "Enter length: 24\n",
      "Enter Breadth: 18\n",
      "This is a Rectangle\n"
     ]
    }
   ],
   "source": [
    "length = int(input(\"Enter length: \"))\n",
    "\n",
    "breadth = int(input(\"Enter Breadth: \"))\n",
    "\n",
    "if length == breadth:\n",
    "    print(\"This is Square.\")\n",
    "else:\n",
    "    print(\"This is a Rectangle\")"
   ]
  },
  {
   "cell_type": "markdown",
   "id": "3bda084b",
   "metadata": {},
   "source": [
    "###### Q9) Take two int values from user and print greatest among them.\n"
   ]
  },
  {
   "cell_type": "code",
   "execution_count": 11,
   "id": "4aeadd28",
   "metadata": {},
   "outputs": [
    {
     "name": "stdout",
     "output_type": "stream",
     "text": [
      "Enter First Number: 90\n",
      "Enter Second Number: 80\n",
      "First Number is greater\n"
     ]
    }
   ],
   "source": [
    "Number1 = int(input(\"Enter First Number: \"))\n",
    "\n",
    "Number2 = int(input(\"Enter Second Number: \"))\n",
    "\n",
    "if Number1 > Number2:\n",
    "    print(\"First Number is greater\")\n",
    "else:\n",
    "    print(\"Second Number is greater\")"
   ]
  },
  {
   "cell_type": "markdown",
   "id": "c54ca7bf",
   "metadata": {},
   "source": [
    "###### Q10) ) A shop will give discount of 10% if the cost of purchased quantity is more than 1000. Ask user for quantity Suppose, one unit will cost 100. Judge and print total cost for user."
   ]
  },
  {
   "cell_type": "code",
   "execution_count": 12,
   "id": "8357f6af",
   "metadata": {},
   "outputs": [
    {
     "name": "stdout",
     "output_type": "stream",
     "text": [
      "Enter the Quantity: 12\n",
      "Total cost after discount is: 1080.0\n"
     ]
    }
   ],
   "source": [
    "cost_per_unit = 100\n",
    "quantity = int(input(\"Enter the Quantity: \"))\n",
    "total_cost = cost_per_unit * quantity\n",
    "if total_cost > 1000:\n",
    "    discount = 0.1 * total_cost\n",
    "    total_cost -= discount\n",
    "    print(\"Total cost after discount is: \" + str(total_cost))\n",
    "else:\n",
    "    print(\"Total cost is: \" + str(total_cost))\n",
    "    "
   ]
  },
  {
   "cell_type": "markdown",
   "id": "1e2e7a8f",
   "metadata": {},
   "source": [
    "###### Q11)A school has following rules for grading system: a. Below 25 - F b. 25 to 45 - E c. 45 to 50 - D d. 50 to 60 - C e. 60 to 80 - B f. Above 80 - A Ask user to enter marks and print the corresponding grade."
   ]
  },
  {
   "cell_type": "code",
   "execution_count": 13,
   "id": "f1e665a3",
   "metadata": {},
   "outputs": [
    {
     "name": "stdout",
     "output_type": "stream",
     "text": [
      "Enter your Marks: 88\n",
      "your grade is 'A' \n"
     ]
    }
   ],
   "source": [
    "marks = int(input(\"Enter your Marks: \"))\n",
    "\n",
    "if marks < 25 :\n",
    "    print(\"your grade is 'F' \")\n",
    "elif  25<= marks <45:\n",
    "    print(\"your grade is 'E' \")\n",
    "elif 45<= marks <50:\n",
    "    print(\"your grade is 'D' \")\n",
    "elif 50 <= marks < 60:\n",
    "    print(\"your grade is 'C' \")\n",
    "elif 60 <= marks < 80:\n",
    "    print(\"your grade is 'B' \")\n",
    "else:\n",
    "    print(\"your grade is 'A' \")"
   ]
  },
  {
   "cell_type": "markdown",
   "id": "908da0dd",
   "metadata": {},
   "source": [
    "###### Q12) A student will not be allowed to sit in exam if his/her attendence is less than 75%.\n"
   ]
  },
  {
   "cell_type": "code",
   "execution_count": 1,
   "id": "a6e88c5c",
   "metadata": {},
   "outputs": [
    {
     "name": "stdout",
     "output_type": "stream",
     "text": [
      "Enter total number of classes held: 20\n",
      "Enter number of classes attended: 16\n",
      "Attendance is 80.0%\n",
      "You are allowed to sit in the exam.\n"
     ]
    }
   ],
   "source": [
    "total_classes = int(input(\"Enter total number of classes held: \"))\n",
    "attended_classes = int(input(\"Enter number of classes attended: \"))\n",
    "\n",
    "attendance_percentage = (attended_classes / total_classes) * 100\n",
    "\n",
    "if attendance_percentage >= 75:\n",
    "    print(f\"Attendance is {attendance_percentage}%\")\n",
    "    print(\"You are allowed to sit in the exam.\")\n",
    "else:\n",
    "    print(f\"Attendance is {attendance_percentage}%\")\n",
    "    print(\"You are not allowed to sit in the exam due to low attendance.\")"
   ]
  },
  {
   "cell_type": "markdown",
   "id": "3a695dae",
   "metadata": {},
   "source": [
    "###### Q13) Modify the above question to allow student to sit if he/she has medical cause. Ask user if he/she has medical cause or not ( 'Y' or 'N' ) and print accordingly."
   ]
  },
  {
   "cell_type": "code",
   "execution_count": 1,
   "id": "2c76d438",
   "metadata": {},
   "outputs": [
    {
     "name": "stdout",
     "output_type": "stream",
     "text": [
      "Do you have a medical cause affecting your ability to sit for the exam? Please enter 'Y' for yes or 'N' for no: Y\n",
      "You are Allowed to sit in exam\n"
     ]
    }
   ],
   "source": [
    "medical_cause = input(\"Do you have a medical cause affecting your ability to sit for the exam? Please enter 'Y' for yes or 'N' for no: \")\n",
    "\n",
    "if medical_cause == 'Y':\n",
    "    print(\"You are Allowed to sit in exam\")\n",
    "elif medical_cause == 'N':\n",
    "    print(\"You are not Allowed to sit in exam\")\n",
    "else:\n",
    "    print(\"Invalid input. Please enter 'Y' for yes or 'N' for no.\")"
   ]
  },
  {
   "cell_type": "markdown",
   "id": "a5917b29",
   "metadata": {},
   "source": [
    "###### Q14) Write a program to check if a year is leap year or not. If a year is divisible by 4 then it is leap year but if the year is century year like 2000, 1900, 2100 then it must be divisible by 400."
   ]
  },
  {
   "cell_type": "code",
   "execution_count": 2,
   "id": "d57843d3",
   "metadata": {},
   "outputs": [
    {
     "name": "stdout",
     "output_type": "stream",
     "text": [
      "Enter a year to check if it's a leap year: 2000\n",
      "2000 is a leap year.\n"
     ]
    }
   ],
   "source": [
    "year = int(input(\"Enter a year to check if it's a leap year: \"))\n",
    "if year % 4 == 0:\n",
    "    if year % 100 == 0:\n",
    "        if year % 400 == 0:\n",
    "            print(f\"{year} is a leap year.\")\n",
    "        else:\n",
    "            print(f\"{year} is not a leap year.\")\n",
    "    else:\n",
    "        print(f\"{year} is a leap year.\")\n",
    "else:\n",
    "    print(f\"{year} is not a leap year.\")"
   ]
  },
  {
   "cell_type": "markdown",
   "id": "3db497e3",
   "metadata": {},
   "source": [
    "###### Q15) Ask user to enter age, gender ( M or F ), marital status ( Y or N ) and then using following rules print their place of service. if employee is female, then she will work only in urban areas. if employee is a male and age is in between 20 to 40 then he may work in anywhere if employee is male and age is in between 40 t0 60 then he will work in urban areas only. And any other input of age should print \"ERROR\""
   ]
  },
  {
   "cell_type": "code",
   "execution_count": 6,
   "id": "290507d2",
   "metadata": {},
   "outputs": [
    {
     "name": "stdout",
     "output_type": "stream",
     "text": [
      "Enter your age: 36\n",
      "Enter your gender (M or F): M\n",
      "Are you married? (Y or N): Y\n",
      "You may work anywhere.\n"
     ]
    }
   ],
   "source": [
    "age = int(input(\"Enter your age: \"))\n",
    "gender = input(\"Enter your gender (M or F): \")\n",
    "marital_status = input(\"Are you married? (Y or N): \")\n",
    "\n",
    "# Checking conditions based on the provided rules\n",
    "if gender == 'F':\n",
    "    print(\"You will work in urban areas.\")\n",
    "else:\n",
    "    if gender == 'M':\n",
    "        if 20 <= age <= 40:\n",
    "            print(\"You may work anywhere.\")\n",
    "        elif 40 <= age <= 60:\n",
    "            print(\"You will work in urban areas only.\")\n",
    "        else:\n",
    "            print(\"ERROR\")\n",
    "    else:\n",
    "        print(\"ERROR\")"
   ]
  },
  {
   "cell_type": "markdown",
   "id": "7b494f05",
   "metadata": {},
   "source": [
    "###### Q16) Write a program to calculate the electricity bill (accept number of unit from user) according to the following criteria :\n",
    "###### Unit                                 Price\n",
    "###### uptp 100 units           no charge\n",
    "###### Next 200 units        Rs 5 per unit\n",
    "###### After 200 units      Rs 10 per unit\n",
    "###### (For example if input unit is 350 than total bill amount is Rs.3500\n",
    "###### (For example if input unit is 97 than total bill amount is Rs.0\n",
    "###### (For example if input unit is 150 than total bill amount is Rs.750"
   ]
  },
  {
   "cell_type": "code",
   "execution_count": 7,
   "id": "1eb3e85a",
   "metadata": {},
   "outputs": [
    {
     "name": "stdout",
     "output_type": "stream",
     "text": [
      "Enter your units: 350\n",
      "total amount of bill 3500\n"
     ]
    }
   ],
   "source": [
    "number_of_units = int(input(\"Enter your units: \"))\n",
    "\n",
    "if number_of_units <= 100:\n",
    "    total_amount = 0\n",
    "    print(f\"total amount of bill {total_amount}\")\n",
    "elif number_of_units <=300:\n",
    "    total_amount = number_of_units * 5\n",
    "    print(f\"total amount of bill {total_amount}\")\n",
    "else:\n",
    "    total_amount = number_of_units * 10\n",
    "    print(f\"total amount of bill {total_amount}\")"
   ]
  },
  {
   "cell_type": "markdown",
   "id": "b0b89808",
   "metadata": {},
   "source": [
    "###### Q17) Take input of age of 3 people by user and determine oldest and youngest among them."
   ]
  },
  {
   "cell_type": "code",
   "execution_count": 8,
   "id": "82d630e6",
   "metadata": {},
   "outputs": [
    {
     "name": "stdout",
     "output_type": "stream",
     "text": [
      "Enter the age of First person: 14\n",
      "Enter the age of Second person: 20\n",
      "Enter the age of Third person: 12\n",
      "Second person is oldest 20 years\n",
      "Third person is youngest 12 years\n"
     ]
    }
   ],
   "source": [
    "perso_1 = int(input(\"Enter the age of First person: \")) \n",
    "perso_2 = int(input(\"Enter the age of Second person: \")) \n",
    "perso_3 = int(input(\"Enter the age of Third person: \"))\n",
    "\n",
    "if perso_1 > perso_2 >perso_3:\n",
    "    print(f\"First person is oldest {perso_1} years\")\n",
    "    print(f\"Third person is youngest {perso_3} years\")\n",
    "elif perso_3 > perso_2 > perso_1:\n",
    "    print(f\"Third person is oldest {perso_3} years\")\n",
    "    print(f\"First person is youngest {perso_1} years\")\n",
    "elif perso_1 > perso_3 > perso_2:\n",
    "    print(f\"First person is oldest {perso_1} years\")\n",
    "    print(f\"Second person is youngest {perso_2} years\")\n",
    "elif perso_2 > perso_3 > perso_1:\n",
    "    print(f\"Second person is oldest {perso_2} years\")\n",
    "    print(f\"First person is youngest {perso_1} years\")\n",
    "elif perso_2 > perso_1 > perso_3:\n",
    "    print(f\"Second person is oldest {perso_2} years\")\n",
    "    print(f\"Third person is youngest {perso_3} years\")\n",
    "else:\n",
    "    print(f\"Third person is oldest {perso_3} years\")\n",
    "    print(f\"Second person is youngest {perso_2} years\")\n",
    "    "
   ]
  },
  {
   "cell_type": "code",
   "execution_count": null,
   "id": "9b048fd1",
   "metadata": {},
   "outputs": [],
   "source": []
  }
 ],
 "metadata": {
  "kernelspec": {
   "display_name": "Python 3 (ipykernel)",
   "language": "python",
   "name": "python3"
  },
  "language_info": {
   "codemirror_mode": {
    "name": "ipython",
    "version": 3
   },
   "file_extension": ".py",
   "mimetype": "text/x-python",
   "name": "python",
   "nbconvert_exporter": "python",
   "pygments_lexer": "ipython3",
   "version": "3.11.5"
  }
 },
 "nbformat": 4,
 "nbformat_minor": 5
}
